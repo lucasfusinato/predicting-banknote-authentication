{
 "cells": [
  {
   "cell_type": "code",
   "execution_count": 7,
   "id": "d27766c8-c711-45e6-8bdd-5b8f90c1c67b",
   "metadata": {},
   "outputs": [],
   "source": [
    "import pandas as pd\n",
    "from sklearn.model_selection import train_test_split\n",
    "from sklearn.neighbors import KNeighborsClassifier\n",
    "from sklearn.tree import DecisionTreeClassifier\n",
    "from sklearn.ensemble import RandomForestClassifier\n",
    "from sklearn.svm import SVC\n",
    "from sklearn.neural_network import MLPClassifier\n",
    "from sklearn.metrics import accuracy_score"
   ]
  },
  {
   "cell_type": "code",
   "execution_count": 8,
   "id": "fd7ab119-c324-4ffe-910b-5ced6aeebf3a",
   "metadata": {},
   "outputs": [
    {
     "data": {
      "text/html": [
       "<div>\n",
       "<style scoped>\n",
       "    .dataframe tbody tr th:only-of-type {\n",
       "        vertical-align: middle;\n",
       "    }\n",
       "\n",
       "    .dataframe tbody tr th {\n",
       "        vertical-align: top;\n",
       "    }\n",
       "\n",
       "    .dataframe thead th {\n",
       "        text-align: right;\n",
       "    }\n",
       "</style>\n",
       "<table border=\"1\" class=\"dataframe\">\n",
       "  <thead>\n",
       "    <tr style=\"text-align: right;\">\n",
       "      <th></th>\n",
       "      <th>variance</th>\n",
       "      <th>skewness</th>\n",
       "      <th>curtosis</th>\n",
       "      <th>entropy</th>\n",
       "      <th>not_genuine</th>\n",
       "    </tr>\n",
       "  </thead>\n",
       "  <tbody>\n",
       "    <tr>\n",
       "      <th>308</th>\n",
       "      <td>4.61600</td>\n",
       "      <td>10.17880</td>\n",
       "      <td>-4.218500</td>\n",
       "      <td>-4.424500</td>\n",
       "      <td>0</td>\n",
       "    </tr>\n",
       "    <tr>\n",
       "      <th>1100</th>\n",
       "      <td>1.43780</td>\n",
       "      <td>0.66837</td>\n",
       "      <td>-2.026700</td>\n",
       "      <td>1.027100</td>\n",
       "      <td>1</td>\n",
       "    </tr>\n",
       "    <tr>\n",
       "      <th>1265</th>\n",
       "      <td>-2.54630</td>\n",
       "      <td>3.11010</td>\n",
       "      <td>-0.832280</td>\n",
       "      <td>-3.035800</td>\n",
       "      <td>1</td>\n",
       "    </tr>\n",
       "    <tr>\n",
       "      <th>1167</th>\n",
       "      <td>-0.87874</td>\n",
       "      <td>-2.21210</td>\n",
       "      <td>-0.051701</td>\n",
       "      <td>0.099985</td>\n",
       "      <td>1</td>\n",
       "    </tr>\n",
       "    <tr>\n",
       "      <th>547</th>\n",
       "      <td>3.46470</td>\n",
       "      <td>-3.91720</td>\n",
       "      <td>3.974600</td>\n",
       "      <td>0.361190</td>\n",
       "      <td>0</td>\n",
       "    </tr>\n",
       "  </tbody>\n",
       "</table>\n",
       "</div>"
      ],
      "text/plain": [
       "      variance  skewness  curtosis   entropy  not_genuine\n",
       "308    4.61600  10.17880 -4.218500 -4.424500            0\n",
       "1100   1.43780   0.66837 -2.026700  1.027100            1\n",
       "1265  -2.54630   3.11010 -0.832280 -3.035800            1\n",
       "1167  -0.87874  -2.21210 -0.051701  0.099985            1\n",
       "547    3.46470  -3.91720  3.974600  0.361190            0"
      ]
     },
     "execution_count": 8,
     "metadata": {},
     "output_type": "execute_result"
    }
   ],
   "source": [
    "df_banknote_auth = pd.read_json('../data/banknote_auth.json', orient='records', lines=True)\n",
    "df_banknote_auth.sample(5)"
   ]
  },
  {
   "cell_type": "code",
   "execution_count": 9,
   "id": "98c6c8d0-9b52-4ba1-a414-c0b7804edd4e",
   "metadata": {},
   "outputs": [],
   "source": [
    "model_features = df_banknote_auth[['variance', 'skewness', 'curtosis', 'entropy']].values\n",
    "model_labels = df_banknote_auth['not_genuine'].values"
   ]
  },
  {
   "cell_type": "code",
   "execution_count": 10,
   "id": "2b4c0107-d6f7-44df-8826-cfabad665705",
   "metadata": {},
   "outputs": [],
   "source": [
    "classifiers = [\n",
    "    ('KNeighborsClassifier', KNeighborsClassifier(n_neighbors=5)),\n",
    "    ('DecisionTreeClassifier', DecisionTreeClassifier(random_state=1)),\n",
    "    ('RandomForestClassifier', RandomForestClassifier(max_depth=8, random_state=1)),\n",
    "    ('SVC', SVC(gamma='auto',kernel='rbf', random_state=1)),\n",
    "    ('MLPClassifier', MLPClassifier(hidden_layer_sizes=(2,), solver='lbfgs', random_state=1))\n",
    "]"
   ]
  },
  {
   "cell_type": "code",
   "execution_count": 11,
   "id": "8a81b5ad-212d-42b1-849e-f67d337fa759",
   "metadata": {},
   "outputs": [],
   "source": [
    "train_features, test_features, train_labels, test_labels = train_test_split(model_features, model_labels, train_size=0.7, test_size=0.3, random_state=1)"
   ]
  },
  {
   "cell_type": "code",
   "execution_count": 12,
   "id": "0c118821-b6bf-4eef-afa4-73af08d51f18",
   "metadata": {},
   "outputs": [
    {
     "name": "stdout",
     "output_type": "stream",
     "text": [
      "KNeighborsClassifier [accuracy=0.9975728155339806]\n",
      "DecisionTreeClassifier [accuracy=0.9878640776699029, importances=[0.64483576 0.18895411 0.15110674 0.01510339]]\n",
      "RandomForestClassifier [accuracy=0.9951456310679612, importances=[0.56066718 0.24058589 0.14022782 0.05851911]]\n",
      "SVC [accuracy=1.0]\n",
      "MLPClassifier [accuracy=1.0]\n"
     ]
    }
   ],
   "source": [
    "for name, classifier in classifiers:\n",
    "    fitted_classifier = classifier.fit(train_features, train_labels)\n",
    "    predict_labels = fitted_classifier.predict(test_features)\n",
    "    accuracy = accuracy_score(y_true=test_labels, y_pred=predict_labels)\n",
    "    if hasattr(fitted_classifier, 'feature_importances_'):\n",
    "        feature_importances = fitted_classifier.feature_importances_\n",
    "        print(f'{name} [accuracy={accuracy}, importances={str(feature_importances)}]')\n",
    "    else:\n",
    "        print(f'{name} [accuracy={accuracy}]')"
   ]
  },
  {
   "cell_type": "code",
   "execution_count": null,
   "id": "6074ef1b-0812-44ff-8932-6de171b7b6d0",
   "metadata": {},
   "outputs": [],
   "source": []
  }
 ],
 "metadata": {
  "kernelspec": {
   "display_name": "Python 3 (ipykernel)",
   "language": "python",
   "name": "python3"
  },
  "language_info": {
   "codemirror_mode": {
    "name": "ipython",
    "version": 3
   },
   "file_extension": ".py",
   "mimetype": "text/x-python",
   "name": "python",
   "nbconvert_exporter": "python",
   "pygments_lexer": "ipython3",
   "version": "3.9.7"
  }
 },
 "nbformat": 4,
 "nbformat_minor": 5
}
