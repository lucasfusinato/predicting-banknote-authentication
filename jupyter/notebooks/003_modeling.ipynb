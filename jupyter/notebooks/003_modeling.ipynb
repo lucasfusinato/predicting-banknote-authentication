{
 "cells": [
  {
   "cell_type": "code",
   "execution_count": 1,
   "id": "d27766c8-c711-45e6-8bdd-5b8f90c1c67b",
   "metadata": {},
   "outputs": [],
   "source": [
    "import pandas as pd\n",
    "from sklearn.model_selection import train_test_split\n",
    "from sklearn.neighbors import KNeighborsClassifier\n",
    "from sklearn.tree import DecisionTreeClassifier\n",
    "from sklearn.ensemble import RandomForestClassifier\n",
    "from sklearn.svm import SVC\n",
    "from sklearn.neural_network import MLPClassifier\n",
    "from sklearn.metrics import accuracy_score\n",
    "import joblib"
   ]
  },
  {
   "cell_type": "code",
   "execution_count": 2,
   "id": "fd7ab119-c324-4ffe-910b-5ced6aeebf3a",
   "metadata": {},
   "outputs": [
    {
     "data": {
      "text/html": [
       "<div>\n",
       "<style scoped>\n",
       "    .dataframe tbody tr th:only-of-type {\n",
       "        vertical-align: middle;\n",
       "    }\n",
       "\n",
       "    .dataframe tbody tr th {\n",
       "        vertical-align: top;\n",
       "    }\n",
       "\n",
       "    .dataframe thead th {\n",
       "        text-align: right;\n",
       "    }\n",
       "</style>\n",
       "<table border=\"1\" class=\"dataframe\">\n",
       "  <thead>\n",
       "    <tr style=\"text-align: right;\">\n",
       "      <th></th>\n",
       "      <th>variance</th>\n",
       "      <th>skewness</th>\n",
       "      <th>curtosis</th>\n",
       "      <th>entropy</th>\n",
       "      <th>not_genuine</th>\n",
       "    </tr>\n",
       "  </thead>\n",
       "  <tbody>\n",
       "    <tr>\n",
       "      <th>0</th>\n",
       "      <td>3.62160</td>\n",
       "      <td>8.66610</td>\n",
       "      <td>-2.80730</td>\n",
       "      <td>-0.44699</td>\n",
       "      <td>0</td>\n",
       "    </tr>\n",
       "    <tr>\n",
       "      <th>1313</th>\n",
       "      <td>-1.50780</td>\n",
       "      <td>-7.31910</td>\n",
       "      <td>7.89810</td>\n",
       "      <td>1.22890</td>\n",
       "      <td>1</td>\n",
       "    </tr>\n",
       "    <tr>\n",
       "      <th>1314</th>\n",
       "      <td>-3.50600</td>\n",
       "      <td>-12.56670</td>\n",
       "      <td>15.16060</td>\n",
       "      <td>-0.75216</td>\n",
       "      <td>1</td>\n",
       "    </tr>\n",
       "    <tr>\n",
       "      <th>21</th>\n",
       "      <td>0.32920</td>\n",
       "      <td>-4.45520</td>\n",
       "      <td>4.57180</td>\n",
       "      <td>-0.98880</td>\n",
       "      <td>0</td>\n",
       "    </tr>\n",
       "    <tr>\n",
       "      <th>892</th>\n",
       "      <td>0.21431</td>\n",
       "      <td>-0.69529</td>\n",
       "      <td>0.87711</td>\n",
       "      <td>0.29653</td>\n",
       "      <td>1</td>\n",
       "    </tr>\n",
       "  </tbody>\n",
       "</table>\n",
       "</div>"
      ],
      "text/plain": [
       "      variance  skewness  curtosis  entropy  not_genuine\n",
       "0      3.62160   8.66610  -2.80730 -0.44699            0\n",
       "1313  -1.50780  -7.31910   7.89810  1.22890            1\n",
       "1314  -3.50600 -12.56670  15.16060 -0.75216            1\n",
       "21     0.32920  -4.45520   4.57180 -0.98880            0\n",
       "892    0.21431  -0.69529   0.87711  0.29653            1"
      ]
     },
     "execution_count": 2,
     "metadata": {},
     "output_type": "execute_result"
    }
   ],
   "source": [
    "df_banknote_auth = pd.read_json('../data/banknote_auth.json', orient='records', lines=True)\n",
    "df_banknote_auth.sample(5)"
   ]
  },
  {
   "cell_type": "code",
   "execution_count": 3,
   "id": "98c6c8d0-9b52-4ba1-a414-c0b7804edd4e",
   "metadata": {},
   "outputs": [],
   "source": [
    "model_features = df_banknote_auth[['variance', 'skewness', 'curtosis', 'entropy']].values\n",
    "model_labels = df_banknote_auth['not_genuine'].values"
   ]
  },
  {
   "cell_type": "code",
   "execution_count": 4,
   "id": "2b4c0107-d6f7-44df-8826-cfabad665705",
   "metadata": {},
   "outputs": [],
   "source": [
    "classifiers = [\n",
    "    ('KNeighborsClassifier', KNeighborsClassifier(n_neighbors=5)),\n",
    "    ('DecisionTreeClassifier', DecisionTreeClassifier(random_state=1)),\n",
    "    ('RandomForestClassifier', RandomForestClassifier(max_depth=8, random_state=1)),\n",
    "    ('SVC', SVC(gamma='auto',kernel='rbf', random_state=1)),\n",
    "    ('MLPClassifier', MLPClassifier(hidden_layer_sizes=(2,), solver='lbfgs', random_state=1))\n",
    "]"
   ]
  },
  {
   "cell_type": "code",
   "execution_count": 5,
   "id": "8a81b5ad-212d-42b1-849e-f67d337fa759",
   "metadata": {},
   "outputs": [],
   "source": [
    "train_features, test_features, train_labels, test_labels = train_test_split(model_features, model_labels, train_size=0.7, test_size=0.3, random_state=1)"
   ]
  },
  {
   "cell_type": "code",
   "execution_count": 8,
   "id": "0c118821-b6bf-4eef-afa4-73af08d51f18",
   "metadata": {},
   "outputs": [
    {
     "name": "stdout",
     "output_type": "stream",
     "text": [
      "KNeighborsClassifier [accuracy=0.9975728155339806]\n",
      "DecisionTreeClassifier [accuracy=0.9878640776699029, importances=[0.64483576 0.18895411 0.15110674 0.01510339]]\n",
      "RandomForestClassifier [accuracy=0.9951456310679612, importances=[0.56066718 0.24058589 0.14022782 0.05851911]]\n",
      "SVC [accuracy=1.0]\n",
      "MLPClassifier [accuracy=1.0]\n"
     ]
    }
   ],
   "source": [
    "for name, classifier in classifiers:\n",
    "    fitted_classifier = classifier.fit(train_features, train_labels)\n",
    "    predict_labels = fitted_classifier.predict(test_features)\n",
    "    accuracy = accuracy_score(y_true=test_labels, y_pred=predict_labels)\n",
    "    if hasattr(fitted_classifier, 'feature_importances_'):\n",
    "        feature_importances = fitted_classifier.feature_importances_\n",
    "        print(f'{name} [accuracy={accuracy}, importances={str(feature_importances)}]')\n",
    "    else:\n",
    "        print(f'{name} [accuracy={accuracy}]')"
   ]
  },
  {
   "cell_type": "code",
   "execution_count": 9,
   "id": "8bc5f571-262d-47bf-86ae-1080eb1f254b",
   "metadata": {},
   "outputs": [
    {
     "data": {
      "text/plain": [
       "['../output/classifier.pkl']"
      ]
     },
     "execution_count": 9,
     "metadata": {},
     "output_type": "execute_result"
    }
   ],
   "source": [
    "best_classifier = [classifier[1] for classifier in classifiers if classifier[0] == 'MLPClassifier'][0]\n",
    "joblib.dump(best_classifier, '../output/classifier.pkl')"
   ]
  },
  {
   "cell_type": "code",
   "execution_count": null,
   "id": "5a2ed5a5-b107-450e-9d4c-f1d38f3af561",
   "metadata": {},
   "outputs": [],
   "source": []
  }
 ],
 "metadata": {
  "kernelspec": {
   "display_name": "Python 3 (ipykernel)",
   "language": "python",
   "name": "python3"
  },
  "language_info": {
   "codemirror_mode": {
    "name": "ipython",
    "version": 3
   },
   "file_extension": ".py",
   "mimetype": "text/x-python",
   "name": "python",
   "nbconvert_exporter": "python",
   "pygments_lexer": "ipython3",
   "version": "3.9.7"
  }
 },
 "nbformat": 4,
 "nbformat_minor": 5
}
